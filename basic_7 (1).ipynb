{
 "cells": [
  {
   "cell_type": "markdown",
   "id": "8473982f-9097-4a80-8e01-586934e23e87",
   "metadata": {},
   "source": [
    "problem-1"
   ]
  },
  {
   "cell_type": "code",
   "execution_count": 1,
   "id": "a23186b2-7db4-4f20-a3cd-7e97eee45685",
   "metadata": {},
   "outputs": [
    {
     "name": "stdout",
     "output_type": "stream",
     "text": [
      "this is the work division of software development\n",
      "this is the work division of data scientists\n",
      "currently this team will work under some testing procedures\n",
      "currently this team will work under some data cleaning operations\n"
     ]
    }
   ],
   "source": [
    "#Q1. What is Abstraction in OOps? Explain with an example.\n",
    "'''ans-Abstraction in oops is basically hiding the actual implementation of the logic from the user.It hides irrevelant data\n",
    "and reduces complexity.Abstraction canbe implemented using abstract class and methods.'''\n",
    "\n",
    "import abc\n",
    "class Company:\n",
    "    \n",
    "    @abc.abstractmethod\n",
    "    def department(self):\n",
    "        pass\n",
    "    \n",
    "    @abc.abstractmethod\n",
    "    def working(self):\n",
    "        pass\n",
    "    \n",
    "    @abc.abstractmethod                  \n",
    "    def fav_movie(self):        #we can hide it because it has no use(irrevelant),we can invoke those methods which invoke sense\n",
    "        pass\n",
    "\n",
    "class software(Company):\n",
    "    \n",
    "    def department(self):\n",
    "        return \"this is the work division of software development\"\n",
    "    \n",
    "    def working(self):\n",
    "        return \"currently this team will work under some testing procedures\"\n",
    "\n",
    "class data(Company):\n",
    "    \n",
    "    def department(self):\n",
    "        return \"this is the work division of data scientists\"\n",
    "    \n",
    "    def working(self):\n",
    "        return \"currently this team will work under some data cleaning operations\"\n",
    "\n",
    "soft=software()\n",
    "data=data()\n",
    "print(soft.department())\n",
    "print(data.department())\n",
    "print(soft.working())\n",
    "print(data.working())\n",
    "    "
   ]
  },
  {
   "cell_type": "markdown",
   "id": "ef9a867f-dcfa-484d-9932-75bc690ab13d",
   "metadata": {},
   "source": [
    "problem-2"
   ]
  },
  {
   "cell_type": "code",
   "execution_count": 2,
   "id": "188e7078-6685-4979-8c00-d0d3ce334ca2",
   "metadata": {},
   "outputs": [
    {
     "name": "stdout",
     "output_type": "stream",
     "text": [
      "this is the work division of software development\n",
      "currently this team will work under some data cleaning operations\n"
     ]
    }
   ],
   "source": [
    "#Q2. Differentiate between Abstraction and Encapsulation. Explain with an example.\n",
    "'''ans-Abstraction hides the unneccessary and irrevelant data and shows the most important details.Encapsulation works\n",
    "internally so that we can change it later also,but we can't change it directly.ABstraction focuses on ''what should be done'' and \n",
    "encapsulation focuses primarily on how it should be done'''\n",
    "\n",
    "#example of abstraction\n",
    "import abc\n",
    "class Company:\n",
    "    \n",
    "    @abc.abstractmethod\n",
    "    def department(self):\n",
    "        pass\n",
    "    \n",
    "    @abc.abstractmethod\n",
    "    def working(self):\n",
    "        pass\n",
    "    \n",
    "    @abc.abstractmethod                  \n",
    "    def fav_movie(self):  #we can hide it because it has no use(irrevelant),we can invoke \n",
    "        pass               #those methods which invoke sense\n",
    "           \n",
    "\n",
    "class software(Company):\n",
    "    \n",
    "    def department(self):\n",
    "        return \"this is the work division of software development\"\n",
    "    \n",
    "    def working(self):\n",
    "        return \"currently this team will work under some testing procedures\"\n",
    "\n",
    "class data(Company):\n",
    "    \n",
    "    def department(self):\n",
    "        return \"this is the work division of data scientists\"\n",
    "    \n",
    "    def working(self):\n",
    "        return \"currently this team will work under some data cleaning operations\"\n",
    "\n",
    "soft=software()\n",
    "data=data()\n",
    "print(soft.department())\n",
    "print(data.working())\n",
    "\n"
   ]
  },
  {
   "cell_type": "code",
   "execution_count": 3,
   "id": "9bec6016-3d9d-47fe-a604-30a36ebe3964",
   "metadata": {},
   "outputs": [
    {
     "name": "stdout",
     "output_type": "stream",
     "text": [
      "NAME: king SALARY: 100000\n",
      "king is working on machine learning\n"
     ]
    }
   ],
   "source": [
    "#example of encapsulation:\n",
    "class work:\n",
    "    def __init__(self,name,salary,project):\n",
    "        self.name=name\n",
    "        self.salary=salary\n",
    "        self.project=project\n",
    "    \n",
    "    def info(self):\n",
    "        print(\"NAME:\",self.name,\"SALARY:\",self.salary)\n",
    "    def working(self):\n",
    "        print(self.name, 'is working on', self.project)\n",
    "        \n",
    "emp_obj=work(\"king\",100000,\"machine learning\")\n",
    "\n",
    "emp_obj.info()\n",
    "emp_obj.working()\n",
    "# we can hide an object’s internal representation from the outside"
   ]
  },
  {
   "cell_type": "markdown",
   "id": "6bc180cc-f4bf-4b09-a49f-44b3124b426d",
   "metadata": {},
   "source": [
    "problem-3"
   ]
  },
  {
   "cell_type": "code",
   "execution_count": 4,
   "id": "437df015-9a2f-4801-b1c6-c2994812b939",
   "metadata": {},
   "outputs": [
    {
     "data": {
      "text/plain": [
       "'ans-the full form of abc is abstract base classes it is used to import and execute the abstract methods \\nso that by inheriting the classes we can perform abstraction.'"
      ]
     },
     "execution_count": 4,
     "metadata": {},
     "output_type": "execute_result"
    }
   ],
   "source": [
    "#Q3. What is abc module in python? Why is it used?\n",
    "'''ans-the full form of abc is abstract base classes it is used to import and execute the abstract methods \n",
    "so that by inheriting the classes we can perform abstraction.'''"
   ]
  },
  {
   "cell_type": "markdown",
   "id": "8e04308f-e811-4c61-8b58-71b00184f014",
   "metadata": {},
   "source": [
    "problem-4"
   ]
  },
  {
   "cell_type": "code",
   "execution_count": 5,
   "id": "27c79ced-0dbb-48a4-95cf-b2aa3be65489",
   "metadata": {},
   "outputs": [
    {
     "data": {
      "text/plain": [
       "'ans-\\n1)first of all we have to import the abc module\\n\\n2)then we can define the main class or parent class.Then at methods we have to put @abc.abstractmethod\\n\\n3)then we can derived our own child class(inheritance) and create that methods and\\nredefine it in our own way'"
      ]
     },
     "execution_count": 5,
     "metadata": {},
     "output_type": "execute_result"
    }
   ],
   "source": [
    "#Q4. How can we achieve data abstraction?\n",
    "'''ans-\n",
    "1)first of all we have to import the abc module\n",
    "\n",
    "2)then we can define the main class or parent class.Then at methods we have to put @abc.abstractmethod\n",
    "\n",
    "3)then we can derived our own child class(inheritance) and create that methods and\n",
    "redefine it in our own way'''\n"
   ]
  },
  {
   "cell_type": "markdown",
   "id": "2ededf7a-6643-43fe-8229-227efd2f2b3d",
   "metadata": {
    "tags": []
   },
   "source": [
    "problem-5"
   ]
  },
  {
   "cell_type": "code",
   "execution_count": 6,
   "id": "be61b770-955f-48c1-82a6-12101b679e07",
   "metadata": {},
   "outputs": [
    {
     "name": "stdout",
     "output_type": "stream",
     "text": [
      "this is the work division of software development\n",
      "this is the work division of data scientists\n",
      "currently this team will work under some testing procedures\n",
      "currently this team will work under some data cleaning operations\n"
     ]
    }
   ],
   "source": [
    "#q5)Can we create an instance of an abstract class? Explain your answer.\n",
    "'''ans-abstract class is a class but we can't create instance of an abstract class\n",
    "directly.It acts as a blueprint for other classes.'''\n",
    "\n",
    "import abc\n",
    "class Company:\n",
    "    \n",
    "    @abc.abstractmethod\n",
    "    def department(self):\n",
    "        pass\n",
    "    \n",
    "    @abc.abstractmethod\n",
    "    def working(self):\n",
    "        pass\n",
    "    \n",
    "    @abc.abstractmethod                  \n",
    "    def fav_movie(self):\n",
    "        pass\n",
    "        \n",
    "\n",
    "class software(Company):\n",
    "    \n",
    "    def department(self):\n",
    "        return \"this is the work division of software development\"\n",
    "    \n",
    "    def working(self):\n",
    "        return \"currently this team will work under some testing procedures\"\n",
    "\n",
    "class data(Company):\n",
    "    \n",
    "    def department(self):\n",
    "        return \"this is the work division of data scientists\"\n",
    "    \n",
    "    def working(self):\n",
    "        return \"currently this team will work under some data cleaning operations\"\n",
    "\n",
    "obj1=Company()\n",
    "#company.    ----->after then if we hit tab no method is visible to us.because we have hide it.\n",
    "soft=software()\n",
    "data=data()\n",
    "print(soft.department())\n",
    "print(data.department())\n",
    "print(soft.working())\n",
    "print(data.working())"
   ]
  },
  {
   "cell_type": "code",
   "execution_count": null,
   "id": "0c61aab6-99ad-4e54-98a2-3398669b9721",
   "metadata": {},
   "outputs": [],
   "source": []
  }
 ],
 "metadata": {
  "kernelspec": {
   "display_name": "Python 3 (ipykernel)",
   "language": "python",
   "name": "python3"
  },
  "language_info": {
   "codemirror_mode": {
    "name": "ipython",
    "version": 3
   },
   "file_extension": ".py",
   "mimetype": "text/x-python",
   "name": "python",
   "nbconvert_exporter": "python",
   "pygments_lexer": "ipython3",
   "version": "3.10.8"
  }
 },
 "nbformat": 4,
 "nbformat_minor": 5
}
