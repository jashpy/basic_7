{
 "cells": [
  {
   "cell_type": "markdown",
   "id": "8473982f-9097-4a80-8e01-586934e23e87",
   "metadata": {},
   "source": [
    "problem-1"
   ]
  },
  {
   "cell_type": "code",
   "execution_count": 1,
   "id": "a23186b2-7db4-4f20-a3cd-7e97eee45685",
   "metadata": {},
   "outputs": [
    {
     "data": {
      "text/plain": [
       "'ans-Abstraction in oops is basically creating a blueprint in a class and we can use that methods in our self \\ndefined class by this decorator property.'"
      ]
     },
     "execution_count": 1,
     "metadata": {},
     "output_type": "execute_result"
    }
   ],
   "source": [
    "#Q1. What is Abstraction in OOps? Explain with an example.\n",
    "'''ans-Abstraction in oops is basically creating a blueprint in a class and we can use that methods in our self \n",
    "defined class by this decorator property.'''    "
   ]
  },
  {
   "cell_type": "code",
   "execution_count": 2,
   "id": "973aac61-94e0-45b3-a469-5e7204bd902c",
   "metadata": {},
   "outputs": [],
   "source": [
    "import abc\n",
    "class Company:\n",
    "    \n",
    "    @abc.abstractmethod\n",
    "    def department(self):\n",
    "        pass\n",
    "    \n",
    "    @abc.abstractmethod\n",
    "    def working(self):\n",
    "        pass\n",
    "    \n",
    "    "
   ]
  },
  {
   "cell_type": "code",
   "execution_count": 3,
   "id": "198801ca-6d00-46f6-8611-01a4921ad1e7",
   "metadata": {},
   "outputs": [],
   "source": [
    "class software(Company):\n",
    "    \n",
    "    def department(self):\n",
    "        return \"this is the work division of software development\"\n",
    "    \n",
    "    def working(self):\n",
    "        return \"currently this team will work under some testing procedures\"\n",
    "\n",
    "class data(Company):\n",
    "    \n",
    "    def department(self):\n",
    "        return \"this is the work division of data scientists\"\n",
    "    \n",
    "    def working(self):\n",
    "        return \"currently this team will work under some data cleaning operations\""
   ]
  },
  {
   "cell_type": "code",
   "execution_count": 4,
   "id": "c68cd4f7-706c-4045-b323-0bb79e74846b",
   "metadata": {},
   "outputs": [
    {
     "name": "stdout",
     "output_type": "stream",
     "text": [
      "this is the work division of software development\n",
      "currently this team will work under some data cleaning operations\n"
     ]
    }
   ],
   "source": [
    "soft=software()\n",
    "data=data()\n",
    "print(soft.department())\n",
    "print(data.working())"
   ]
  },
  {
   "cell_type": "markdown",
   "id": "ef9a867f-dcfa-484d-9932-75bc690ab13d",
   "metadata": {},
   "source": [
    "problem-2"
   ]
  },
  {
   "cell_type": "code",
   "execution_count": 5,
   "id": "188e7078-6685-4979-8c00-d0d3ce334ca2",
   "metadata": {},
   "outputs": [
    {
     "name": "stdout",
     "output_type": "stream",
     "text": [
      "this is the work division of software development\n",
      "currently this team will work under some data cleaning operations\n"
     ]
    }
   ],
   "source": [
    "#Q2. Differentiate between Abstraction and Encapsulation. Explain with an example.\n",
    "'''ans-abstraction is also the hiding of the data so that no one can change or access it directly but \n",
    "the programmer can use the methods created in the original class like a template in user defined class.\n",
    "encapsulation refers to the hiding of the data and make it private to the user formed by the dunder it can be used and changed \n",
    "indirectly by getter and setter'''\n",
    "\n",
    "#example of abstraction\n",
    "import abc\n",
    "class Company:\n",
    "    \n",
    "    @abc.abstractmethod\n",
    "    def department(self):\n",
    "        pass\n",
    "    \n",
    "    @abc.abstractmethod\n",
    "    def working(self):\n",
    "        pass\n",
    "class software(Company):\n",
    "    \n",
    "    def department(self):\n",
    "        return \"this is the work division of software development\"\n",
    "    \n",
    "    def working(self):\n",
    "        return \"currently this team will work under some testing procedures\"\n",
    "\n",
    "class data(Company):\n",
    "    \n",
    "    def department(self):\n",
    "        return \"this is the work division of data scientists\"\n",
    "    \n",
    "    def working(self):\n",
    "        return \"currently this team will work under some data cleaning operations\"\n",
    "\n",
    "soft=software()\n",
    "data=data()\n",
    "print(soft.department())\n",
    "print(data.working())\n",
    "\n"
   ]
  },
  {
   "cell_type": "code",
   "execution_count": 7,
   "id": "9bec6016-3d9d-47fe-a604-30a36ebe3964",
   "metadata": {},
   "outputs": [
    {
     "data": {
      "text/plain": [
       "98"
      ]
     },
     "execution_count": 7,
     "metadata": {},
     "output_type": "execute_result"
    }
   ],
   "source": [
    "#example of encapsulation:\n",
    "class marks:\n",
    "    def __init__(self,num):\n",
    "        self.__num=num\n",
    "    \n",
    "    def set_marks(self,x):\n",
    "        self.__num=x\n",
    "    \n",
    "    def get_marks(self):\n",
    "        return self.__num\n",
    "    \n",
    "child1=marks(89)\n",
    "child1.set_marks(98)\n",
    "child1.get_marks()"
   ]
  },
  {
   "cell_type": "markdown",
   "id": "6bc180cc-f4bf-4b09-a49f-44b3124b426d",
   "metadata": {},
   "source": [
    "problem-3"
   ]
  },
  {
   "cell_type": "code",
   "execution_count": 8,
   "id": "437df015-9a2f-4801-b1c6-c2994812b939",
   "metadata": {},
   "outputs": [
    {
     "data": {
      "text/plain": [
       "'ans-the full form of abc is abstract base classes it is used to import and execute the abstract methods \\nso that by inheriting the classes we can perform abstraction.'"
      ]
     },
     "execution_count": 8,
     "metadata": {},
     "output_type": "execute_result"
    }
   ],
   "source": [
    "#Q3. What is abc module in python? Why is it used?\n",
    "'''ans-the full form of abc is abstract base classes it is used to import and execute the abstract methods \n",
    "so that by inheriting the classes we can perform abstraction.'''"
   ]
  },
  {
   "cell_type": "markdown",
   "id": "8e04308f-e811-4c61-8b58-71b00184f014",
   "metadata": {},
   "source": [
    "problem-4"
   ]
  },
  {
   "cell_type": "code",
   "execution_count": 10,
   "id": "27c79ced-0dbb-48a4-95cf-b2aa3be65489",
   "metadata": {},
   "outputs": [
    {
     "data": {
      "text/plain": [
       "'ans-\\n1)first of all we have to import the abc module\\n\\n2)then we can define the main class or parent class.Then at all methods we have to put @abc.abstractmethod to act it like a pointer\\n\\n3)then we can derived our own child class and create that methods and redefine it in our own way'"
      ]
     },
     "execution_count": 10,
     "metadata": {},
     "output_type": "execute_result"
    }
   ],
   "source": [
    "#Q4. How can we achieve data abstraction?\n",
    "'''ans-\n",
    "1)first of all we have to import the abc module\n",
    "\n",
    "2)then we can define the main class or parent class.Then at all methods we have to put @abc.abstractmethod to act it like a pointer\n",
    "\n",
    "3)then we can derived our own child class and create that methods and redefine it in our own way'''\n"
   ]
  },
  {
   "cell_type": "markdown",
   "id": "2ededf7a-6643-43fe-8229-227efd2f2b3d",
   "metadata": {},
   "source": [
    "problem-5"
   ]
  },
  {
   "cell_type": "code",
   "execution_count": 11,
   "id": "c4b73460-7687-4b93-94a4-d8beb2d9bdd5",
   "metadata": {},
   "outputs": [
    {
     "name": "stdout",
     "output_type": "stream",
     "text": [
      "this is the work division of software development\n",
      "currently this team will work under some data cleaning operations\n"
     ]
    }
   ],
   "source": [
    "#Q5. Can we create an instance of an abstract class? Explain your answer.\n",
    "'''ans-object or instance can not directly created for abstract class.we can create it through child class and invoke\n",
    "or use the  methods which we want to modify'''\n",
    "\n",
    "import abc\n",
    "class Company:\n",
    "    \n",
    "    @abc.abstractmethod\n",
    "    def department(self):\n",
    "        pass\n",
    "    \n",
    "    @abc.abstractmethod\n",
    "    def working(self):\n",
    "        pass\n",
    "class software(Company):\n",
    "    \n",
    "    def department(self):\n",
    "        return \"this is the work division of software development\"\n",
    "    \n",
    "    def working(self):\n",
    "        return \"currently this team will work under some testing procedures\"\n",
    "\n",
    "class data(Company):\n",
    "    \n",
    "    def department(self):\n",
    "        return \"this is the work division of data scientists\"\n",
    "    \n",
    "    def working(self):\n",
    "        return \"currently this team will work under some data cleaning operations\"\n",
    "\n",
    "soft=software()\n",
    "data=data()\n",
    "print(soft.department())\n",
    "print(data.working())\n"
   ]
  },
  {
   "cell_type": "code",
   "execution_count": null,
   "id": "680167a2-4116-4a40-aadd-b6492840bfa4",
   "metadata": {},
   "outputs": [],
   "source": []
  }
 ],
 "metadata": {
  "kernelspec": {
   "display_name": "Python 3 (ipykernel)",
   "language": "python",
   "name": "python3"
  },
  "language_info": {
   "codemirror_mode": {
    "name": "ipython",
    "version": 3
   },
   "file_extension": ".py",
   "mimetype": "text/x-python",
   "name": "python",
   "nbconvert_exporter": "python",
   "pygments_lexer": "ipython3",
   "version": "3.10.8"
  }
 },
 "nbformat": 4,
 "nbformat_minor": 5
}
